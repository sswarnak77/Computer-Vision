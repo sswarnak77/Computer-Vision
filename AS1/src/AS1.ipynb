{
 "cells": [
  {
   "cell_type": "code",
   "execution_count": 153,
   "metadata": {
    "collapsed": true
   },
   "outputs": [],
   "source": [
    "import numpy as np\n",
    "import pandas as pd"
   ]
  },
  {
   "cell_type": "markdown",
   "metadata": {},
   "source": [
    "# A)"
   ]
  },
  {
   "cell_type": "code",
   "execution_count": 154,
   "metadata": {},
   "outputs": [],
   "source": [
    "A=[1,2,3]\n",
    "B=[4,5,6]\n",
    "C=[-1,1,3]"
   ]
  },
  {
   "cell_type": "code",
   "execution_count": 155,
   "metadata": {
    "collapsed": true
   },
   "outputs": [],
   "source": [
    "A=np.array(A)\n",
    "B=np.array(B)\n",
    "C=np.array(C)"
   ]
  },
  {
   "cell_type": "code",
   "execution_count": 156,
   "metadata": {},
   "outputs": [
    {
     "name": "stdout",
     "output_type": "stream",
     "text": [
      "[-2 -1  0]\n"
     ]
    }
   ],
   "source": [
    "print 2*A-B"
   ]
  },
  {
   "cell_type": "code",
   "execution_count": 157,
   "metadata": {},
   "outputs": [
    {
     "name": "stdout",
     "output_type": "stream",
     "text": [
      "The Angle of A relative to positiove X-axis:  0.267261241912\n"
     ]
    }
   ],
   "source": [
    "print \"The Angle of A relative to positiove X-axis: \",1/np.sqrt(sum(pow(A,2)))"
   ]
  },
  {
   "cell_type": "code",
   "execution_count": 158,
   "metadata": {},
   "outputs": [
    {
     "name": "stdout",
     "output_type": "stream",
     "text": [
      "Unit vector in the direction of A: [ 0.26726124  0.53452248  0.80178373]\n"
     ]
    }
   ],
   "source": [
    "print \"Unit vector in the direction of A:\",A/np.sqrt(sum(pow(A,2)))"
   ]
  },
  {
   "cell_type": "code",
   "execution_count": 159,
   "metadata": {},
   "outputs": [
    {
     "name": "stdout",
     "output_type": "stream",
     "text": [
      "The directions of Cosines of A are: 0.267261241912 , 0.534522483825 and 0.801783725737\n"
     ]
    }
   ],
   "source": [
    "print \"The directions of Cosines of A are:\",1/np.sqrt(sum(pow(A,2))),\",\",2/np.sqrt(sum(pow(A,2))),\"and\",3/np.sqrt(sum(pow(A,2)))"
   ]
  },
  {
   "cell_type": "code",
   "execution_count": 160,
   "metadata": {},
   "outputs": [
    {
     "name": "stdout",
     "output_type": "stream",
     "text": [
      "A.B: 32\n",
      "B.A: 32\n"
     ]
    }
   ],
   "source": [
    "print \"A.B:\",np.dot(A,B)\n",
    "print \"B.A:\",np.dot(B,A)"
   ]
  },
  {
   "cell_type": "code",
   "execution_count": 163,
   "metadata": {},
   "outputs": [
    {
     "name": "stdout",
     "output_type": "stream",
     "text": [
      "The angle between A and B is: 75.0466521572\n"
     ]
    }
   ],
   "source": [
    "print \"The angle between A and B is:\",np.dot(A,B)/np.sqrt(sum(pow(A,2)))*np.sqrt(sum(pow(B,2)))"
   ]
  },
  {
   "cell_type": "code",
   "execution_count": 164,
   "metadata": {},
   "outputs": [
    {
     "name": "stdout",
     "output_type": "stream",
     "text": [
      "AxB: [-3  6 -3]\n",
      "AxB: [ 3 -6  3]\n"
     ]
    }
   ],
   "source": [
    "print \"AxB:\",np.cross(A,B)\n",
    "print \"AxB:\",np.cross(B,A)"
   ]
  },
  {
   "cell_type": "code",
   "execution_count": 165,
   "metadata": {},
   "outputs": [
    {
     "name": "stdout",
     "output_type": "stream",
     "text": [
      "transpose(A)*B: 32\n",
      "A*transpose(B): 32\n"
     ]
    }
   ],
   "source": [
    "print \"transpose(A)*B:\",np.matmul(np.transpose(A),B)\n",
    "print \"A*transpose(B):\",np.matmul(A,np.transpose(B))"
   ]
  },
  {
   "cell_type": "code",
   "execution_count": 166,
   "metadata": {},
   "outputs": [
    {
     "name": "stdout",
     "output_type": "stream",
     "text": [
      "A vector which is perpendicular to A and B: [-3  6 -3]\n"
     ]
    }
   ],
   "source": [
    "print \"A vector which is perpendicular to A and B:\",np.cross(A,B)"
   ]
  },
  {
   "cell_type": "markdown",
   "metadata": {},
   "source": [
    "# B)"
   ]
  },
  {
   "cell_type": "code",
   "execution_count": 167,
   "metadata": {},
   "outputs": [],
   "source": [
    "A=[[1,2,3],[4,-2,3],[0,5,-1]]\n",
    "B=[[1,2,1],[2,1,-4],[3,-2,1]]\n",
    "C=[[1,2,3],[4,5,6],[-1,1,3]]"
   ]
  },
  {
   "cell_type": "code",
   "execution_count": 168,
   "metadata": {
    "collapsed": true
   },
   "outputs": [],
   "source": [
    "A=np.array(A)\n",
    "B=np.array(B)\n",
    "C=np.array(C)"
   ]
  },
  {
   "cell_type": "code",
   "execution_count": 169,
   "metadata": {},
   "outputs": [
    {
     "name": "stdout",
     "output_type": "stream",
     "text": [
      "[[ 1  2  5]\n",
      " [ 6 -5 10]\n",
      " [-3 12 -3]]\n"
     ]
    }
   ],
   "source": [
    "print 2*A-B"
   ]
  },
  {
   "cell_type": "code",
   "execution_count": 170,
   "metadata": {},
   "outputs": [
    {
     "name": "stdout",
     "output_type": "stream",
     "text": [
      "AB: [[ 14  -2  -4]\n",
      " [  9   0  15]\n",
      " [  7   7 -21]]\n",
      "BA: [[  9   3   8]\n",
      " [  6 -18  13]\n",
      " [ -5  15   2]]\n"
     ]
    }
   ],
   "source": [
    "print \"AB:\",np.matmul(A,B)\n",
    "print \"BA:\",np.matmul(B,A)"
   ]
  },
  {
   "cell_type": "code",
   "execution_count": 171,
   "metadata": {},
   "outputs": [
    {
     "name": "stdout",
     "output_type": "stream",
     "text": [
      "transpose(AB): [[ 14   9   7]\n",
      " [ -2   0   7]\n",
      " [ -4  15 -21]]\n"
     ]
    }
   ],
   "source": [
    "print \"transpose(AB):\",np.transpose(np.matmul(A,B))"
   ]
  },
  {
   "cell_type": "code",
   "execution_count": 172,
   "metadata": {},
   "outputs": [
    {
     "name": "stdout",
     "output_type": "stream",
     "text": [
      "transpose(B)*transpose(A): [[ 14   9   7]\n",
      " [ -2   0   7]\n",
      " [ -4  15 -21]]\n"
     ]
    }
   ],
   "source": [
    "print \"transpose(B)*transpose(A):\",np.matmul(np.transpose(B),np.transpose(A))"
   ]
  },
  {
   "cell_type": "code",
   "execution_count": 173,
   "metadata": {},
   "outputs": [
    {
     "name": "stdout",
     "output_type": "stream",
     "text": [
      "|A|: 55.0\n",
      "|c|: 7.49400541622e-16\n"
     ]
    }
   ],
   "source": [
    "print \"|A|:\",np.linalg.det(A)\n",
    "print \"|c|:\",np.linalg.det(C)"
   ]
  },
  {
   "cell_type": "code",
   "execution_count": 79,
   "metadata": {},
   "outputs": [
    {
     "name": "stdout",
     "output_type": "stream",
     "text": [
      "Inverse of A: [[-0.23636364  0.30909091  0.21818182]\n",
      " [ 0.07272727 -0.01818182  0.16363636]\n",
      " [ 0.36363636 -0.09090909 -0.18181818]]\n"
     ]
    }
   ],
   "source": [
    "print \"Inverse of A:\",np.linalg.inv(A)"
   ]
  },
  {
   "cell_type": "code",
   "execution_count": 175,
   "metadata": {},
   "outputs": [
    {
     "name": "stdout",
     "output_type": "stream",
     "text": [
      "Inverse of B: [[ 0.16666667  0.0952381   0.21428571]\n",
      " [ 0.33333333  0.04761905 -0.14285714]\n",
      " [ 0.16666667 -0.19047619  0.07142857]]\n"
     ]
    }
   ],
   "source": [
    "print \"Inverse of B:\",np.linalg.inv(B)"
   ]
  },
  {
   "cell_type": "markdown",
   "metadata": {},
   "source": [
    "# C)"
   ]
  },
  {
   "cell_type": "code",
   "execution_count": 176,
   "metadata": {
    "collapsed": true
   },
   "outputs": [],
   "source": [
    "A=[[1,2],[3,2]]\n",
    "C=[[2,-2],[-2,5]]"
   ]
  },
  {
   "cell_type": "code",
   "execution_count": 177,
   "metadata": {},
   "outputs": [],
   "source": [
    "w,v=np.linalg.eig(A)"
   ]
  },
  {
   "cell_type": "code",
   "execution_count": 178,
   "metadata": {},
   "outputs": [
    {
     "name": "stdout",
     "output_type": "stream",
     "text": [
      "EigenValues of A: [-1.  4.]\n"
     ]
    }
   ],
   "source": [
    "print \"EigenValues of A:\",w"
   ]
  },
  {
   "cell_type": "code",
   "execution_count": 179,
   "metadata": {},
   "outputs": [
    {
     "name": "stdout",
     "output_type": "stream",
     "text": [
      "EigenVectors of A: [[-0.70710678 -0.5547002 ]\n",
      " [ 0.70710678 -0.83205029]]\n"
     ]
    }
   ],
   "source": [
    "print \"EigenVectors of A:\",v"
   ]
  },
  {
   "cell_type": "code",
   "execution_count": 180,
   "metadata": {
    "collapsed": true
   },
   "outputs": [],
   "source": [
    "wb,vb=np.linalg.eig(B)"
   ]
  },
  {
   "cell_type": "code",
   "execution_count": 181,
   "metadata": {},
   "outputs": [
    {
     "name": "stdout",
     "output_type": "stream",
     "text": [
      "inverse(V)AV: [[-0.6        -1.25514326]\n",
      " [ 0.50990195  2.4       ]]\n"
     ]
    }
   ],
   "source": [
    "print \"inverse(V)AV:\",np.linalg.inv(v)*np.matmul(A,v)"
   ]
  },
  {
   "cell_type": "code",
   "execution_count": 182,
   "metadata": {},
   "outputs": [
    {
     "name": "stdout",
     "output_type": "stream",
     "text": [
      "Dot product between the eigenvectors of A: -0.0384615384615\n"
     ]
    }
   ],
   "source": [
    "print \"Dot product between the eigenvectors of A:\",np.dot(v[0],v[1])"
   ]
  },
  {
   "cell_type": "code",
   "execution_count": 183,
   "metadata": {},
   "outputs": [
    {
     "name": "stdout",
     "output_type": "stream",
     "text": [
      "Dot product between the eigenvectors of B: (0.355392092242+0j)\n"
     ]
    }
   ],
   "source": [
    "print \"Dot product between the eigenvectors of B:\",np.dot(vb[0],vb[1])"
   ]
  },
  {
   "cell_type": "code",
   "execution_count": 184,
   "metadata": {},
   "outputs": [
    {
     "name": "stdout",
     "output_type": "stream",
     "text": [
      "The property of the eigenvectore of B: Since B is symmetric real matrix so its eigenvectors are orthogonal\n"
     ]
    }
   ],
   "source": [
    "print \"The property of the eigenvectore of B:\",\"Since B is symmetric real matrix so its eigenvectors are orthogonal\""
   ]
  },
  {
   "cell_type": "code",
   "execution_count": null,
   "metadata": {
    "collapsed": true
   },
   "outputs": [],
   "source": []
  },
  {
   "cell_type": "code",
   "execution_count": null,
   "metadata": {
    "collapsed": true
   },
   "outputs": [],
   "source": []
  },
  {
   "cell_type": "code",
   "execution_count": null,
   "metadata": {
    "collapsed": true
   },
   "outputs": [],
   "source": []
  },
  {
   "cell_type": "code",
   "execution_count": null,
   "metadata": {
    "collapsed": true
   },
   "outputs": [],
   "source": []
  },
  {
   "cell_type": "code",
   "execution_count": null,
   "metadata": {
    "collapsed": true
   },
   "outputs": [],
   "source": []
  },
  {
   "cell_type": "code",
   "execution_count": null,
   "metadata": {
    "collapsed": true
   },
   "outputs": [],
   "source": []
  },
  {
   "cell_type": "code",
   "execution_count": null,
   "metadata": {
    "collapsed": true
   },
   "outputs": [],
   "source": []
  },
  {
   "cell_type": "code",
   "execution_count": null,
   "metadata": {
    "collapsed": true
   },
   "outputs": [],
   "source": []
  },
  {
   "cell_type": "code",
   "execution_count": null,
   "metadata": {
    "collapsed": true
   },
   "outputs": [],
   "source": []
  },
  {
   "cell_type": "code",
   "execution_count": null,
   "metadata": {
    "collapsed": true
   },
   "outputs": [],
   "source": []
  },
  {
   "cell_type": "code",
   "execution_count": null,
   "metadata": {
    "collapsed": true
   },
   "outputs": [],
   "source": []
  },
  {
   "cell_type": "code",
   "execution_count": null,
   "metadata": {
    "collapsed": true
   },
   "outputs": [],
   "source": []
  },
  {
   "cell_type": "code",
   "execution_count": null,
   "metadata": {
    "collapsed": true
   },
   "outputs": [],
   "source": []
  }
 ],
 "metadata": {
  "kernelspec": {
   "display_name": "Python 2",
   "language": "python",
   "name": "python2"
  },
  "language_info": {
   "codemirror_mode": {
    "name": "ipython",
    "version": 2
   },
   "file_extension": ".py",
   "mimetype": "text/x-python",
   "name": "python",
   "nbconvert_exporter": "python",
   "pygments_lexer": "ipython2",
   "version": "2.7.13"
  }
 },
 "nbformat": 4,
 "nbformat_minor": 2
}
